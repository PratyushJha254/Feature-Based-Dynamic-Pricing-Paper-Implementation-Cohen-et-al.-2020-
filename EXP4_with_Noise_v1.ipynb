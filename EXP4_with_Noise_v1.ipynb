{
  "nbformat": 4,
  "nbformat_minor": 0,
  "metadata": {
    "colab": {
      "provenance": [],
      "include_colab_link": true
    },
    "kernelspec": {
      "name": "python3",
      "display_name": "Python 3"
    },
    "language_info": {
      "name": "python"
    }
  },
  "cells": [
    {
      "cell_type": "markdown",
      "metadata": {
        "id": "view-in-github",
        "colab_type": "text"
      },
      "source": [
        "<a href=\"https://colab.research.google.com/github/PratyushJha254/Feature-Based-Dynamic-Pricing-Paper-Implementation-Cohen-et-al.-2020-/blob/main/EXP4_with_Noise_v1.ipynb\" target=\"_parent\"><img src=\"https://colab.research.google.com/assets/colab-badge.svg\" alt=\"Open In Colab\"/></a>"
      ]
    },
    {
      "cell_type": "code",
      "execution_count": null,
      "metadata": {
        "id": "zRos13GhLjR6"
      },
      "outputs": [],
      "source": [
        "import numpy as np\n",
        "from matplotlib import pyplot as plt\n",
        "from numba import jit\n",
        "import math"
      ]
    },
    {
      "cell_type": "code",
      "source": [
        "seed = 11\n",
        "np.random.seed(seed)\n",
        "R = 1"
      ],
      "metadata": {
        "id": "64qlIKm-Lqng"
      },
      "execution_count": null,
      "outputs": []
    },
    {
      "cell_type": "code",
      "source": [
        "# @jit(nopython = True)\n",
        "def plott(regret, T, minD = 0, maxD = 0, fst = True):\n",
        "  if(fst):\n",
        "    plt.plot(np.log(np.linspace(1,T,T)), regret)\n",
        "  else:\n",
        "    plt.plot(np.linspace(minD,maxD-1, maxD-minD), regret)"
      ],
      "metadata": {
        "id": "vopSQJUbLsm5"
      },
      "execution_count": null,
      "outputs": []
    },
    {
      "cell_type": "code",
      "source": [
        "import numpy as np\n",
        "\n",
        "def find_closest_array(A, B):\n",
        "    # Initialize minimum distance and the index of the closest array\n",
        "    min_dist = np.inf\n",
        "    closest_array = None\n",
        "    i=0\n",
        "    # Iterate through each array in A\n",
        "    for array in A:\n",
        "        # Calculate the Euclidean distance from the current array to B\n",
        "        dist = np.linalg.norm(np.array(array) - np.array(B))\n",
        "\n",
        "        # If this distance is less than the current minimum, update min_dist and closest_array\n",
        "        if dist < min_dist:\n",
        "            min_dist = dist\n",
        "            closest_array = i\n",
        "        i+=1\n",
        "\n",
        "    return closest_array"
      ],
      "metadata": {
        "id": "5pfwVBMILvL8"
      },
      "execution_count": null,
      "outputs": []
    },
    {
      "cell_type": "markdown",
      "source": [
        "## EXP4 with Noise"
      ],
      "metadata": {
        "id": "4TgFbA7gL6_9"
      }
    },
    {
      "cell_type": "code",
      "source": [
        "# @jit(nopython=True)\n",
        "def discretize_vector(d, gamma):\n",
        "    # Generate a grid of equally spaced values in each dimension\n",
        "    intervals = np.arange(0, 1, gamma)\n",
        "\n",
        "    # Generate all combinations of values in each dimension\n",
        "    grid = np.meshgrid(*[intervals]*d, indexing='ij')\n",
        "\n",
        "    # Combine the values in each dimension to form vectors\n",
        "    discretized_vectors = np.vstack([component.flatten() for component in grid]).T\n",
        "\n",
        "    return discretized_vectors"
      ],
      "metadata": {
        "id": "1OL0uLwrL6pp"
      },
      "execution_count": null,
      "outputs": []
    },
    {
      "cell_type": "code",
      "source": [
        "@jit(nopython=True)\n",
        "def weighted_choice(weights):\n",
        "    cumulative_sum = np.cumsum(weights)\n",
        "    rnd = np.random.rand() * cumulative_sum[-1]\n",
        "    return np.searchsorted(cumulative_sum, rnd)"
      ],
      "metadata": {
        "id": "JNS8r1iYLxUP"
      },
      "execution_count": null,
      "outputs": []
    },
    {
      "cell_type": "code",
      "source": [
        "# #Noise calculation:\n",
        "# p_star = 0\n",
        "# ind = 0\n",
        "# cnts = 0\n",
        "# for x in act_wts:\n",
        "#   proba_val = exp(-((x-at)**2)/(2*(sigma**2)))\n",
        "#   if(p_star<=proba_val):\n",
        "#     p_star = proba_val\n",
        "#     ind = cnts\n",
        "#   cnts++\n",
        "\n",
        "# #Regret calculation will be difficult since for every policy, noise thing must be calculated; based on this, act_wts will be different now\n",
        "\n",
        "# #value with noise:\n",
        "# v = v+del_t"
      ],
      "metadata": {
        "id": "_xk9IaOKTZiM"
      },
      "execution_count": null,
      "outputs": []
    },
    {
      "cell_type": "markdown",
      "source": [
        "An attempt to code EXP4 with noise, this could not be coded properly because the p* function has amiguity in the paper."
      ],
      "metadata": {
        "id": "FaMY7oHZ3XhO"
      }
    },
    {
      "cell_type": "code",
      "source": [
        "from numba import jit\n",
        "from scipy.stats import norm\n",
        "\n",
        "# @jit(nopython=True)\n",
        "def EXP4(theta, d, gamma, eta, T,theta_dis, closest_pi):\n",
        "    size = len(theta_dis)\n",
        "    w0 = np.ones(size)  # Initialize weights uniformly\n",
        "    pol_at = np.zeros(size)\n",
        "    rt_pi = np.zeros(size)\n",
        "    regret = np.zeros(T)\n",
        "    rew_prev = 0\n",
        "    rewards_prev = np.zeros(size)\n",
        "    exp_reg = np.zeros(T)\n",
        "    rew_store = np.zeros(size)\n",
        "    # act_wt = np.zeros(1/(gamma*np.sqrt(d)))\n",
        "    exp_val = 0\n",
        "    maxi = 0\n",
        "    sigma = 0.1\n",
        "    for t in range(T):\n",
        "        del_t = abs(np.random.normal(0,sigma))\n",
        "        xt = np.abs(np.random.uniform(0, 1, d))  # Generate random vector xt\n",
        "        xt = xt / np.sqrt(np.sum(xt ** 2))\n",
        "        v = np.dot(theta, xt) + del_t  # Compute inner product of theta and xt\n",
        "        gd = gamma * np.sqrt(d)\n",
        "        # Discretize the inner product between theta and xt\n",
        "        dis_thetax = gd * np.floor(np.dot(theta_dis, xt) / gd)\n",
        "\n",
        "        # Compute the potential actions based on discretization\n",
        "        # pol_at = dis_thetax - gd ################################\n",
        "        pol_at = dis_thetax\n",
        "\n",
        "        # Choose an action based on the weights w0\n",
        "        probabilities = w0 / np.sum(w0)\n",
        "        th_choice = weighted_choice(probabilities)\n",
        "        at = pol_at[th_choice]\n",
        "\n",
        "        #Noise calculation:\n",
        "        # p_star = 0\n",
        "        # ind = 0\n",
        "        # for x in act_wts:\n",
        "        #   proba_val = (x-at)/sigma\n",
        "        #   proba_val = 1-norm.cdf(proba_val)\n",
        "        #   proba_val *= x\n",
        "        #   if(p_star<=proba_val):\n",
        "        #     p_star = proba_val\n",
        "        #     ind = x\n",
        "        # # Compute reward\n",
        "        rt_at = 1 * (at <= v)\n",
        "        # rt_at = (ind <= v)\n",
        "\n",
        "        # Compute reward estimates for all actions\n",
        "        sum_weights = 0\n",
        "        for j in range(size):\n",
        "          if (pol_at[j]==at):\n",
        "            sum_weights += w0[j]\n",
        "\n",
        "        for i in range(size):\n",
        "            if pol_at[i] == at:\n",
        "                # Compute sum of weights for actions where pol_at[j] == at using a list comprehension\n",
        "                rt_pi[i] = (rt_at * np.sum(w0)) / sum_weights\n",
        "            else:\n",
        "                rt_pi[i] = 0\n",
        "\n",
        "        prev_m = max(rew_store)\n",
        "\n",
        "        # Update weights\n",
        "        # if(rt_at!=0):\n",
        "        for j in range(size):\n",
        "          w0[j] = w0[j]*np.exp(eta * (rt_pi[j]))\n",
        "\n",
        "        act_wts = {}\n",
        "        for i in range (size):\n",
        "          actions = pol_at[i]\n",
        "          rew_store[i] += (actions<=v)\n",
        "          if actions in act_wts:\n",
        "            act_wts[actions] += w0[i]\n",
        "          else:\n",
        "            act_wts[actions] = w0[i]\n",
        "        maxi = max(maxi,len(act_wts))\n",
        "        # act_wts = {}\n",
        "        # for i in range (size):\n",
        "        #   actions = pol_at[i]\n",
        "        #   rew_store[i] += (actions<=v)\n",
        "        #   if actions in act_wts:\n",
        "        #     act_wts[actions] += w0[i]\n",
        "        #   else:\n",
        "        #     act_wts[actions] = w0[i]\n",
        "        # maxi = max(maxi,len(act_wts))\n",
        "\n",
        "        # print(len(act_wts))\n",
        "        total_wt = np.sum(w0)\n",
        "        for x in act_wts: ####\n",
        "          rt_act = (x<=v)\n",
        "          exp_val += (rt_act*(act_wts[x]))/total_wt\n",
        "\n",
        "\n",
        "\n",
        "        exp_reg[t] =  max(rew_store)-exp_val\n",
        "        # rt_at = at*(at<=v)\n",
        "        regret[t] += regret[max(0,t-1)] + (v-at*(rt_at))\n",
        "\n",
        "        if((t+1)%1000==0):\n",
        "            print('t=', t)\n",
        "            print('Selected Price:', at)\n",
        "            print('Actual Price:', v)\n",
        "            # print(\"th_choice'xt\", np.dot(th_choice,xt))\n",
        "            print('Regret:', exp_reg[t])\n",
        "            print('Selected Policy', theta_dis[th_choice])\n",
        "\n",
        "            print('Correct Policy', theta)\n",
        "            print('Selected Policy Weights', w0[th_choice])\n",
        "            print('Correct Policy Weights', w0[closest_pi])\n",
        "            print('--------------------------')\n",
        "    print(maxi)\n",
        "\n",
        "    return exp_reg, w0,regret\n"
      ],
      "metadata": {
        "id": "CHiU0U2YMD8k"
      },
      "execution_count": null,
      "outputs": []
    },
    {
      "cell_type": "code",
      "source": [
        "d = 2\n",
        "T = 10000\n",
        "gamma = 1 / ((T*np.sqrt(d)) ** (1/3))\n",
        "theta = np.abs(np.random.uniform(0, 1, d))\n",
        "theta = theta / np.sqrt(np.sum(theta ** 2))\n",
        "theta_dis = discretize_vector(d, gamma)\n",
        "size = len(theta_dis)\n",
        "eta = np.sqrt(2* np.log(size) / (T * (1/(gamma*np.sqrt(d)))))/2"
      ],
      "metadata": {
        "id": "x7S0mE6kMHXj"
      },
      "execution_count": null,
      "outputs": []
    },
    {
      "cell_type": "code",
      "source": [
        "closest_pi = find_closest_array(theta_dis, theta)\n",
        "regret2, w0,reggi = EXP4(theta, d, gamma, eta, T,theta_dis, closest_pi)\n",
        "plt.plot(np.log(range(1,T+1)),reggi, label=2)\n",
        "# plt.plot(np.log(range(1,T+1)),regret3, label=3)\n",
        "plt.legend()"
      ],
      "metadata": {
        "colab": {
          "base_uri": "https://localhost:8080/",
          "height": 1000
        },
        "id": "3aFsR6lfMLOD",
        "outputId": "379bf236-69cf-47c3-9ac1-5722343b5c5a"
      },
      "execution_count": null,
      "outputs": [
        {
          "output_type": "stream",
          "name": "stdout",
          "text": [
            "t= 999\n",
            "Selected Price: 0.350882128585544\n",
            "Actual Price: 0.7865765672473386\n",
            "Regret: 117.09992569744975\n",
            "Selected Policy [0.28946299 0.24811113]\n",
            "Correct Policy [0.31183503 0.95013626]\n",
            "Selected Policy Weights 70.69053620638971\n",
            "Correct Policy Weights 54.163286784747804\n",
            "--------------------------\n",
            "t= 1999\n",
            "Selected Price: 0.0\n",
            "Actual Price: 0.41708826258992854\n",
            "Regret: 152.92516555914472\n",
            "Selected Policy [0.         0.28946299]\n",
            "Correct Policy [0.31183503 0.95013626]\n",
            "Selected Policy Weights 5956.758113568268\n",
            "Correct Policy Weights 4102.596185752431\n",
            "--------------------------\n",
            "t= 2999\n",
            "Selected Price: 0.175441064292772\n",
            "Actual Price: 0.39548182231718015\n",
            "Regret: 169.2865087324376\n",
            "Selected Policy [0.12405557 0.82703711]\n",
            "Correct Policy [0.31183503 0.95013626]\n",
            "Selected Policy Weights 1266566.2088425588\n",
            "Correct Policy Weights 490669.4771917675\n",
            "--------------------------\n",
            "t= 3999\n",
            "Selected Price: 0.350882128585544\n",
            "Actual Price: 1.0315737385910213\n",
            "Regret: 434.103293850163\n",
            "Selected Policy [0.         0.41351855]\n",
            "Correct Policy [0.31183503 0.95013626]\n",
            "Selected Policy Weights 1.7475099850899363e+17\n",
            "Correct Policy Weights 15589092.27737816\n",
            "--------------------------\n",
            "t= 4999\n",
            "Selected Price: 0.2924017738212867\n",
            "Actual Price: 0.904242568407299\n",
            "Regret: 434.10416984849144\n",
            "Selected Policy [0.         0.45487041]\n",
            "Correct Policy [0.31183503 0.95013626]\n",
            "Selected Policy Weights 8.829317579472538e+18\n",
            "Correct Policy Weights 15589092.27737816\n",
            "--------------------------\n",
            "t= 5999\n",
            "Selected Price: 0.40936248334980135\n",
            "Actual Price: 1.0463790118715983\n",
            "Regret: 434.10418188245967\n",
            "Selected Policy [0.         0.45487041]\n",
            "Correct Policy [0.31183503 0.95013626]\n",
            "Selected Policy Weights 7.907000593976226e+20\n",
            "Correct Policy Weights 15589092.27737816\n",
            "--------------------------\n",
            "t= 6999\n",
            "Selected Price: 0.23392141905702935\n",
            "Actual Price: 0.8777075470061546\n",
            "Regret: 434.1041820371456\n",
            "Selected Policy [0.04135186 0.41351855]\n",
            "Correct Policy [0.31183503 0.95013626]\n",
            "Selected Policy Weights 5.310912745395655e+22\n",
            "Correct Policy Weights 15589092.27737816\n",
            "--------------------------\n",
            "t= 7999\n",
            "Selected Price: 0.2924017738212867\n",
            "Actual Price: 1.2233524802708822\n",
            "Regret: 434.1041820394039\n",
            "Selected Policy [0.04135186 0.33081484]\n",
            "Correct Policy [0.31183503 0.95013626]\n",
            "Selected Policy Weights 5.785709055964524e+24\n",
            "Correct Policy Weights 15589092.27737816\n",
            "--------------------------\n",
            "t= 8999\n",
            "Selected Price: 0.175441064292772\n",
            "Actual Price: 0.7169979866991254\n",
            "Regret: 434.1041820396076\n",
            "Selected Policy [0.04135186 0.41351855]\n",
            "Correct Policy [0.31183503 0.95013626]\n",
            "Selected Policy Weights 3.3351158672296415e+26\n",
            "Correct Policy Weights 15589092.27737816\n",
            "--------------------------\n",
            "t= 9999\n",
            "Selected Price: 0.2924017738212867\n",
            "Actual Price: 1.0036670794128646\n",
            "Regret: 434.104182039624\n",
            "Selected Policy [0.08270371 0.33081484]\n",
            "Correct Policy [0.31183503 0.95013626]\n",
            "Selected Policy Weights 5.426589489809587e+27\n",
            "Correct Policy Weights 15589092.27737816\n",
            "--------------------------\n",
            "24\n"
          ]
        },
        {
          "output_type": "execute_result",
          "data": {
            "text/plain": [
              "<matplotlib.legend.Legend at 0x7da22dd5ac20>"
            ]
          },
          "metadata": {},
          "execution_count": 39
        },
        {
          "output_type": "display_data",
          "data": {
            "text/plain": [
              "<Figure size 640x480 with 1 Axes>"
            ],
            "image/png": "[encoded data removed]"
          },
          "metadata": {}
        }
      ]
    },
    {
      "cell_type": "code",
      "source": [
        "reggi[T-1]"
      ],
      "metadata": {
        "id": "Oha8UY_RWqZW",
        "colab": {
          "base_uri": "https://localhost:8080/"
        },
        "outputId": "cf6d9cc7-58c7-4cdd-f6d8-bc04917d4e6f"
      },
      "execution_count": null,
      "outputs": [
        {
          "output_type": "execute_result",
          "data": {
            "text/plain": [
              "5694.248249479634"
            ]
          },
          "metadata": {},
          "execution_count": 40
        }
      ]
    },
    {
      "cell_type": "markdown",
      "source": [
        "## Ellipsoid Pricing With Noise"
      ],
      "metadata": {
        "id": "I_S0qOOXXbSI"
      }
    },
    {
      "cell_type": "code",
      "source": [
        "@jit(nopython=True)\n",
        "def EllipsoidPricing(ep, theta, d, T):\n",
        "    num_explore = np.zeros(T)\n",
        "    at = np.zeros(d, dtype=np.float64)\n",
        "    At = np.eye(d, dtype=np.float64)\n",
        "    rev = 0\n",
        "    regret = np.zeros(T)\n",
        "    for i in range(T):\n",
        "        del_t = 0\n",
        "        xt = np.random.normal(0, 1, d)\n",
        "        xt = xt / np.sqrt(np.sum(xt ** 2))\n",
        "        xt = np.abs(xt)\n",
        "        dell = np.sqrt(xt.T @ At @ xt)\n",
        "        bt_min = xt.T @ at - dell\n",
        "        bt_max = xt.T @ at + dell\n",
        "        delta = 2 * dell\n",
        "        v = theta.T @ xt\n",
        "        pt = 0\n",
        "        if delta <= ep:\n",
        "            pt = bt_min\n",
        "            rev += pt\n",
        "        else:\n",
        "            num_explore[i] = 1\n",
        "            b = (At @ xt) / dell\n",
        "            pt = (bt_min + bt_max) / 2\n",
        "            bb = (b[:, np.newaxis] @ b[np.newaxis, :])\n",
        "            At = ((d ** 2) / (d ** 2 - 1)) * (At - (2 / (d + 1)) * bb)\n",
        "            if pt <= v:\n",
        "                rev += pt\n",
        "                at = at + b / (d + 1)\n",
        "            else:\n",
        "                rev += 0\n",
        "                at = at - b / (d + 1)\n",
        "\n",
        "        reg = v - (pt * (pt <= v))\n",
        "\n",
        "        if i == 0:\n",
        "            regret[i] = reg\n",
        "        else:\n",
        "            regret[i] = regret[i - 1] + reg\n",
        "\n",
        "    return regret, num_explore\n"
      ],
      "metadata": {
        "id": "F4B01Ao4XfCA"
      },
      "execution_count": null,
      "outputs": []
    },
    {
      "cell_type": "code",
      "source": [
        "@jit(nopython = True)\n",
        "def ExpectedValue_EllipsoidPricing(ep, theta, d, T, epochs):\n",
        "  regret = np.zeros(T)\n",
        "  explore = np.zeros(T)\n",
        "  for i in range(epochs):\n",
        "    regret_temp, explore_temp = EllipsoidPricing(ep, theta, d, T)\n",
        "    regret += regret_temp\n",
        "    explore +=explore_temp\n",
        "\n",
        "  regret = regret/epochs\n",
        "  explore = explore/epochs\n",
        "  return regret, explore"
      ],
      "metadata": {
        "id": "a67zjNjuX9JL"
      },
      "execution_count": null,
      "outputs": []
    },
    {
      "cell_type": "code",
      "source": [
        "# @jit(nopython = True)\n",
        "def plott(regret, T, minD = 0, maxD = 0, fst = True):\n",
        "  if(fst):\n",
        "    plt.plot(np.log(np.linspace(1,T,T)), regret)\n",
        "  else:\n",
        "    plt.plot(np.linspace(minD,maxD-1, maxD-minD), regret)"
      ],
      "metadata": {
        "id": "V__PmPAQYFDe"
      },
      "execution_count": null,
      "outputs": []
    },
    {
      "cell_type": "code",
      "source": [
        "# graph_1\n",
        "dimensions = [2]\n",
        "for d in dimensions:\n",
        "  T=10000\n",
        "  ep = R*(d**2)/T\n",
        "  theta = np.random.normal(0,1,d)\n",
        "  theta = theta/np.sqrt(np.sum(theta**2))\n",
        "  theta = np.abs(theta)\n",
        "  epochs = 100\n",
        "  regret, _ = ExpectedValue_EllipsoidPricing(ep, theta, d, T, epochs)\n",
        "  print(regret[T-1])\n",
        "  plott(regret, T)"
      ],
      "metadata": {
        "colab": {
          "base_uri": "https://localhost:8080/",
          "height": 447
        },
        "id": "X8ZyuRqHYJ_A",
        "outputId": "c6f37764-f52f-4583-f2a9-2f61aa44be12"
      },
      "execution_count": null,
      "outputs": [
        {
          "output_type": "stream",
          "name": "stdout",
          "text": [
            "31.151113774512982\n"
          ]
        },
        {
          "output_type": "display_data",
          "data": {
            "text/plain": [
              "<Figure size 640x480 with 1 Axes>"
            ],
            "image/png": "[encoded data removed]"
          },
          "metadata": {}
        }
      ]
    },
    {
      "cell_type": "code",
      "source": [
        "print(reggi[T-1]- 4936.94)"
      ],
      "metadata": {
        "colab": {
          "base_uri": "https://localhost:8080/"
        },
        "id": "ICbgxpJ5YoVQ",
        "outputId": "5680dc02-81ec-4b8a-ecc9-bcef23c5d20e"
      },
      "execution_count": null,
      "outputs": [
        {
          "output_type": "stream",
          "name": "stdout",
          "text": [
            "757.3082494796345\n"
          ]
        }
      ]
    },
    {
      "cell_type": "code",
      "source": [],
      "metadata": {
        "id": "-gOEqPPNY1Q_"
      },
      "execution_count": null,
      "outputs": []
    },
    {
      "cell_type": "markdown",
      "source": [
        "# Shallow Pricing With Noise"
      ],
      "metadata": {
        "id": "ONmPX5plZAAR"
      }
    },
    {
      "cell_type": "code",
      "source": [
        "@jit(nopython=True)\n",
        "def ShallowPricing(theta, d, T):\n",
        "    num_explore = np.zeros(T)\n",
        "    at = np.zeros(d, dtype=np.float64)\n",
        "    At = np.eye(d, dtype=np.float64)\n",
        "    rev = 0\n",
        "    sigma = 0.1\n",
        "    # sigma = 1/(T*np.log(T))\n",
        "    DELTA = np.sqrt(2)*sigma*np.log(T)\n",
        "    regret = np.zeros(T)\n",
        "    for i in range(T):\n",
        "        DELTA_t = abs(np.random.normal(0,sigma))\n",
        "        # DELTA_t = min(DELTA_t, DELTA)\n",
        "        xt = np.random.normal(0, 1, d)\n",
        "        xt = xt / np.sqrt(np.sum(xt ** 2))\n",
        "        xt = np.abs(xt)\n",
        "        dell = np.sqrt(xt.T @ At @ xt)\n",
        "        bt_min = xt.T @ at - dell\n",
        "        bt_max = xt.T @ at + dell\n",
        "        delta = 2 * dell\n",
        "        ALPHA_t = max(-DELTA/dell, -1/d)\n",
        "        v = theta.T @ xt + DELTA_t\n",
        "        pt = 0\n",
        "        if delta <= ep:\n",
        "            pt = bt_min - DELTA\n",
        "            rev += pt\n",
        "        else:\n",
        "            num_explore[i] = 1\n",
        "            b = (At @ xt) / dell\n",
        "            pt = (bt_min + bt_max) / 2 - DELTA\n",
        "            bb = (b[:, np.newaxis] @ b[np.newaxis, :])\n",
        "            At = ((d ** 2) / (d ** 2 - 1)) * (1 - ALPHA_t ** 2)  * (At - ((2  * (1 + d * ALPHA_t)) / ((1 + ALPHA_t) * (d + 1))) * bb)\n",
        "            if pt <= v:\n",
        "                rev += pt\n",
        "                at = at + (1 + d*ALPHA_t) * b / (d + 1)\n",
        "            else:\n",
        "                rev += 0\n",
        "                at = at - (1 + d * ALPHA_t) * b / (d + 1)\n",
        "\n",
        "        reg = v - (pt * (pt <= v))\n",
        "\n",
        "        if i == 0:\n",
        "            regret[i] = reg\n",
        "        else:\n",
        "            regret[i] = regret[i - 1] + reg\n",
        "\n",
        "    return regret, num_explore\n"
      ],
      "metadata": {
        "id": "wHgV07WSZCBr"
      },
      "execution_count": null,
      "outputs": []
    },
    {
      "cell_type": "code",
      "source": [
        "d = 2\n",
        "T=50000\n",
        "R=1\n",
        "# sigma = 1/(T*np.log(T))\n",
        "sigma = 0.1\n",
        "ep = R*(d**2)/T\n",
        "DELTA = np.sqrt(2)*d*sigma\n",
        "ep = max(ep, 4*d*DELTA)\n",
        "theta = np.random.normal(0,1,d)\n",
        "theta = theta/np.sqrt(np.sum(theta**2))\n",
        "theta = np.abs(theta)\n",
        "epochs = 100\n",
        "regret3, explore = ShallowPricing(theta, d, T)"
      ],
      "metadata": {
        "id": "-NS39waJZMEm"
      },
      "execution_count": null,
      "outputs": []
    },
    {
      "cell_type": "code",
      "source": [
        "print(reggi[T-1]-regret3[T-1])"
      ],
      "metadata": {
        "colab": {
          "base_uri": "https://localhost:8080/",
          "height": 141
        },
        "id": "8giI-1-8ZYW8",
        "outputId": "aba6d368-dde7-4576-99d8-a497898e8de3"
      },
      "execution_count": null,
      "outputs": [
        {
          "output_type": "error",
          "ename": "IndexError",
          "evalue": "index 49999 is out of bounds for axis 0 with size 10000",
          "traceback": [
            "\u001b[0;31m---------------------------------------------------------------------------\u001b[0m",
            "\u001b[0;31mIndexError\u001b[0m                                Traceback (most recent call last)",
            "\u001b[0;32m<ipython-input-49-3bf187ab8b48>\u001b[0m in \u001b[0;36m<cell line: 1>\u001b[0;34m()\u001b[0m\n\u001b[0;32m----> 1\u001b[0;31m \u001b[0mprint\u001b[0m\u001b[0;34m(\u001b[0m\u001b[0mreggi\u001b[0m\u001b[0;34m[\u001b[0m\u001b[0mT\u001b[0m\u001b[0;34m-\u001b[0m\u001b[0;36m1\u001b[0m\u001b[0;34m]\u001b[0m\u001b[0;34m-\u001b[0m\u001b[0mregret3\u001b[0m\u001b[0;34m[\u001b[0m\u001b[0mT\u001b[0m\u001b[0;34m-\u001b[0m\u001b[0;36m1\u001b[0m\u001b[0;34m]\u001b[0m\u001b[0;34m)\u001b[0m\u001b[0;34m\u001b[0m\u001b[0;34m\u001b[0m\u001b[0m\n\u001b[0m",
            "\u001b[0;31mIndexError\u001b[0m: index 49999 is out of bounds for axis 0 with size 10000"
          ]
        }
      ]
    },
    {
      "cell_type": "code",
      "source": [
        "plt.plot(range(0,T), regret3)\n",
        "# plt.plot(range(0,T),reggi)"
      ],
      "metadata": {
        "colab": {
          "base_uri": "https://localhost:8080/",
          "height": 447
        },
        "id": "uIGQOAryZdYb",
        "outputId": "e51eb68a-98ac-46e5-d5f9-578544ee3d8c"
      },
      "execution_count": null,
      "outputs": [
        {
          "output_type": "execute_result",
          "data": {
            "text/plain": [
              "[<matplotlib.lines.Line2D at 0x7da230332920>]"
            ]
          },
          "metadata": {},
          "execution_count": 50
        },
        {
          "output_type": "display_data",
          "data": {
            "text/plain": [
              "<Figure size 640x480 with 1 Axes>"
            ],
            "image/png": "[encoded data removed]"
          },
          "metadata": {}
        }
      ]
    }
  ]
}